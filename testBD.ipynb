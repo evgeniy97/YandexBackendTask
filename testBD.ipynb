{
 "cells": [
  {
   "cell_type": "code",
   "execution_count": 6,
   "metadata": {},
   "outputs": [],
   "source": [
    "from pymongo import MongoClient\n",
    "from pymongo.collection import ReturnDocument\n",
    "import pymongo\n",
    "\n",
    "\n",
    "client = MongoClient(\"mongodb://localhost:27017\")\n",
    "db = client.yandex"
   ]
  },
  {
   "cell_type": "code",
   "execution_count": 7,
   "metadata": {},
   "outputs": [],
   "source": [
    "col = db.import_1"
   ]
  },
  {
   "cell_type": "code",
   "execution_count": 8,
   "metadata": {},
   "outputs": [
    {
     "data": {
      "text/plain": [
       "{'_id': ObjectId('5d3ed553634a62a4356d7670'),\n",
       " 'apartment': 5,\n",
       " 'birth_day': '10.04.2000',\n",
       " 'building': '1c4',\n",
       " 'citizen_id': 10,\n",
       " 'gender': 'male',\n",
       " 'name': 'Vasya',\n",
       " 'relatives': [],\n",
       " 'street': 'Tverskaya',\n",
       " 'town': 'Moscow'}"
      ]
     },
     "execution_count": 8,
     "metadata": {},
     "output_type": "execute_result"
    }
   ],
   "source": [
    "col.find_one_and_update({'citizen_id':10},{'$set':{'name': 'Vasya'}},return_document=ReturnDocument.AFTER)"
   ]
  },
  {
   "cell_type": "code",
   "execution_count": null,
   "metadata": {},
   "outputs": [],
   "source": []
  },
  {
   "cell_type": "code",
   "execution_count": null,
   "metadata": {},
   "outputs": [],
   "source": []
  },
  {
   "cell_type": "code",
   "execution_count": null,
   "metadata": {},
   "outputs": [],
   "source": []
  },
  {
   "cell_type": "code",
   "execution_count": null,
   "metadata": {},
   "outputs": [],
   "source": []
  },
  {
   "cell_type": "code",
   "execution_count": 5,
   "metadata": {},
   "outputs": [],
   "source": [
    "collection = db.shop_2"
   ]
  },
  {
   "cell_type": "code",
   "execution_count": 14,
   "metadata": {},
   "outputs": [
    {
     "data": {
      "text/plain": [
       "<pymongo.results.InsertManyResult at 0x1fc34e128c8>"
      ]
     },
     "execution_count": 14,
     "metadata": {},
     "output_type": "execute_result"
    }
   ],
   "source": [
    "collection.insert_many([{'lala':123}])"
   ]
  },
  {
   "cell_type": "code",
   "execution_count": 10,
   "metadata": {},
   "outputs": [
    {
     "data": {
      "text/plain": [
       "['shop_2', 'shop']"
      ]
     },
     "execution_count": 10,
     "metadata": {},
     "output_type": "execute_result"
    }
   ],
   "source": [
    "db.list_collection_names()"
   ]
  },
  {
   "cell_type": "code",
   "execution_count": 1,
   "metadata": {},
   "outputs": [],
   "source": [
    "from marshmallow import Schema, fields, ValidationError"
   ]
  },
  {
   "cell_type": "code",
   "execution_count": 38,
   "metadata": {},
   "outputs": [],
   "source": [
    "class Citizen(Schema):\n",
    "    citizen_id = fields.Integer(required=True, unique=True, validate=lambda x: x >= 0) # >0\n",
    "    town = fields.Str(required=True)\n",
    "    street = fields.Str(required=True)\n",
    "    building = fields.Str(required=True)\n",
    "    apartment = fields.Int(required=True,validate=lambda x: x >= 0) # >0\n",
    "    name = fields.Str(required=True)\n",
    "    birth_day = fields.DateTime(format='%d.%m.%Y',required=True)\n",
    "    gender = fields.Str(required=True, validate=lambda x: x in ['male','female']) # male/female\n",
    "    relatives = fields.List(fields.Int, required=True)"
   ]
  },
  {
   "cell_type": "code",
   "execution_count": 39,
   "metadata": {},
   "outputs": [],
   "source": [
    "test = [{\n",
    "    'citizen_id': 10,\n",
    "    'town': 'Moscow',\n",
    "    'street': 'Tverskaya',\n",
    "    'building': '1c4',\n",
    "    'apartment': 5,\n",
    "    'name': 'Ivan',\n",
    "    'birth_day': '10.04.2000',\n",
    "    'gender': 'male'\n",
    "    , 'relatives': []\n",
    "},\n",
    "    {\n",
    "    'citizen_id': 10,\n",
    "    'town': 'Moscow',\n",
    "    'street': 'Tverskaya',\n",
    "    'building': '1c4',\n",
    "    'apartment': 5,\n",
    "    'name': 'Ivan',\n",
    "    'birth_day': '10.04.2000',\n",
    "    'gender': 'male'\n",
    "    , 'relatives': []\n",
    "    }\n",
    "]"
   ]
  },
  {
   "cell_type": "code",
   "execution_count": 41,
   "metadata": {},
   "outputs": [
    {
     "name": "stdout",
     "output_type": "stream",
     "text": [
      "OK\n"
     ]
    }
   ],
   "source": [
    "try:\n",
    "    data = Citizen(many=True).load(test)\n",
    "    print('OK')\n",
    "except ValidationError as err:\n",
    "    print('Bad request')\n",
    "    print(err.messages)"
   ]
  },
  {
   "cell_type": "code",
   "execution_count": 43,
   "metadata": {},
   "outputs": [],
   "source": [
    "s = '5'"
   ]
  },
  {
   "cell_type": "code",
   "execution_count": null,
   "metadata": {},
   "outputs": [],
   "source": [
    "s.is"
   ]
  },
  {
   "cell_type": "code",
   "execution_count": null,
   "metadata": {},
   "outputs": [],
   "source": []
  },
  {
   "cell_type": "code",
   "execution_count": 8,
   "metadata": {},
   "outputs": [],
   "source": [
    "from pymongo.errors import ConnectionFailure\n",
    "from pymongo import MongoClient\n",
    "\n",
    "client = MongoClient(\"mongodb://localhost:27017\",serverSelectionTimeoutMS=1)\n",
    "try:\n",
    "    # The ismaster command is cheap and does not require auth.\n",
    "    client.admin.command('ismaster')\n",
    "except ConnectionFailure:\n",
    "    print(\"Server not available\")"
   ]
  },
  {
   "cell_type": "code",
   "execution_count": null,
   "metadata": {},
   "outputs": [],
   "source": []
  },
  {
   "cell_type": "code",
   "execution_count": null,
   "metadata": {},
   "outputs": [],
   "source": []
  },
  {
   "cell_type": "code",
   "execution_count": null,
   "metadata": {},
   "outputs": [],
   "source": []
  }
 ],
 "metadata": {
  "kernelspec": {
   "display_name": "Python 3",
   "language": "python",
   "name": "python3"
  },
  "language_info": {
   "codemirror_mode": {
    "name": "ipython",
    "version": 3
   },
   "file_extension": ".py",
   "mimetype": "text/x-python",
   "name": "python",
   "nbconvert_exporter": "python",
   "pygments_lexer": "ipython3",
   "version": "3.6.4"
  }
 },
 "nbformat": 4,
 "nbformat_minor": 2
}
