{
 "cells": [
  {
   "cell_type": "code",
   "execution_count": 1,
   "metadata": {},
   "outputs": [],
   "source": [
    "import json"
   ]
  },
  {
   "cell_type": "code",
   "execution_count": 2,
   "metadata": {},
   "outputs": [],
   "source": [
    "def makeCitizen(citizen_id,town,birth_date=\"10.01.2000\",relatives=[],\n",
    "                street=\"No street\",gender=\"male\",name=\"Noname\",building=\"1\",apartament=1):\n",
    "    return { \n",
    "        \"citizen_id\": citizen_id,\n",
    "        \"town\": town,\n",
    "        \"birth_date\": birth_date,\n",
    "        \"relatives\": relatives,\n",
    "        \"street\": street,\n",
    "        \"gender\": gender,\n",
    "        \"name\": name,\n",
    "        \"building\": building,\n",
    "        \"apartament\": apartament\n",
    "            }"
   ]
  },
  {
   "cell_type": "code",
   "execution_count": 3,
   "metadata": {},
   "outputs": [],
   "source": [
    "def giveTown():\n",
    "    for i in range (5001): yield \"Moscow\"\n",
    "    for j in range(5001): yield \"Kiev\"\n",
    "    yield \"Berlin\"    "
   ]
  },
  {
   "cell_type": "code",
   "execution_count": 4,
   "metadata": {},
   "outputs": [],
   "source": [
    "data = [makeCitizen(i,next(giveTown())) for i in range(2,10001)]"
   ]
  },
  {
   "cell_type": "code",
   "execution_count": 8,
   "metadata": {},
   "outputs": [
    {
     "data": {
      "text/plain": [
       "'Moscow'"
      ]
     },
     "execution_count": 8,
     "metadata": {},
     "output_type": "execute_result"
    }
   ],
   "source": [
    "next(giveTown())"
   ]
  },
  {
   "cell_type": "code",
   "execution_count": 6,
   "metadata": {},
   "outputs": [],
   "source": [
    "first_relatives = []\n",
    "for i in range(1,10):\n",
    "    data.append(makeCitizen(10000+i, next(giveTown()),birth_date=\"10.0{}.1990\".format(i%10),relatives=[1]))\n",
    "    first_relatives.append(10000+i)\n",
    "\n",
    "data.append(makeCitizen(1,next(giveTown()),first_relatives))\n",
    "for j in range(1, 10):\n",
    "    data.append(makeCitizen(10010+j, next(giveTown()),birth_date=\"10.0{}.1990\".format(i%10),relatives=[10010+j]))\n"
   ]
  },
  {
   "cell_type": "code",
   "execution_count": null,
   "metadata": {},
   "outputs": [],
   "source": [
    "data = {\"citizens\": data}"
   ]
  },
  {
   "cell_type": "code",
   "execution_count": 7,
   "metadata": {},
   "outputs": [],
   "source": [
    "with open('jsons/big_data.json', 'w') as f:\n",
    "    json.dump(data, f)"
   ]
  },
  {
   "cell_type": "code",
   "execution_count": null,
   "metadata": {},
   "outputs": [],
   "source": []
  },
  {
   "cell_type": "code",
   "execution_count": null,
   "metadata": {},
   "outputs": [],
   "source": []
  },
  {
   "cell_type": "code",
   "execution_count": null,
   "metadata": {},
   "outputs": [],
   "source": []
  },
  {
   "cell_type": "code",
   "execution_count": null,
   "metadata": {},
   "outputs": [],
   "source": []
  },
  {
   "cell_type": "code",
   "execution_count": null,
   "metadata": {},
   "outputs": [],
   "source": []
  },
  {
   "cell_type": "code",
   "execution_count": null,
   "metadata": {},
   "outputs": [],
   "source": []
  },
  {
   "cell_type": "code",
   "execution_count": null,
   "metadata": {},
   "outputs": [],
   "source": []
  }
 ],
 "metadata": {
  "kernelspec": {
   "display_name": "Python 3",
   "language": "python",
   "name": "python3"
  },
  "language_info": {
   "codemirror_mode": {
    "name": "ipython",
    "version": 3
   },
   "file_extension": ".py",
   "mimetype": "text/x-python",
   "name": "python",
   "nbconvert_exporter": "python",
   "pygments_lexer": "ipython3",
   "version": "3.6.4"
  }
 },
 "nbformat": 4,
 "nbformat_minor": 2
}
